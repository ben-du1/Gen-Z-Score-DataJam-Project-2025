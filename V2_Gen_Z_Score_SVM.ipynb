{
  "nbformat": 4,
  "nbformat_minor": 0,
  "metadata": {
    "colab": {
      "provenance": [],
      "authorship_tag": "ABX9TyMjIzzBZGrwsRazJPVa2WP5",
      "include_colab_link": true
    },
    "kernelspec": {
      "name": "python3",
      "display_name": "Python 3"
    },
    "language_info": {
      "name": "python"
    }
  },
  "cells": [
    {
      "cell_type": "markdown",
      "metadata": {
        "id": "view-in-github",
        "colab_type": "text"
      },
      "source": [
        "<a href=\"https://colab.research.google.com/github/ben-du1/Gen-Z-Score-DataJam-Project-2025/blob/main/V2_Gen_Z_Score_SVM.ipynb\" target=\"_parent\"><img src=\"https://colab.research.google.com/assets/colab-badge.svg\" alt=\"Open In Colab\"/></a>"
      ]
    },
    {
      "cell_type": "code",
      "source": [
        "!pip install mordredcommunity"
      ],
      "metadata": {
        "colab": {
          "base_uri": "https://localhost:8080/"
        },
        "id": "X11DPg7JWW7X",
        "outputId": "2bd311bb-b521-4b4b-b67e-3dbf30c449f4"
      },
      "execution_count": 2,
      "outputs": [
        {
          "output_type": "stream",
          "name": "stdout",
          "text": [
            "Collecting mordredcommunity\n",
            "  Downloading mordredcommunity-2.0.6-py3-none-any.whl.metadata (6.2 kB)\n",
            "Collecting rdkit (from mordredcommunity)\n",
            "  Downloading rdkit-2024.9.6-cp311-cp311-manylinux_2_28_x86_64.whl.metadata (4.0 kB)\n",
            "Requirement already satisfied: six in /usr/local/lib/python3.11/dist-packages (from mordredcommunity) (1.17.0)\n",
            "Requirement already satisfied: numpy in /usr/local/lib/python3.11/dist-packages (from mordredcommunity) (2.0.2)\n",
            "Requirement already satisfied: networkx in /usr/local/lib/python3.11/dist-packages (from mordredcommunity) (3.4.2)\n",
            "Requirement already satisfied: packaging in /usr/local/lib/python3.11/dist-packages (from mordredcommunity) (24.2)\n",
            "Requirement already satisfied: Pillow in /usr/local/lib/python3.11/dist-packages (from rdkit->mordredcommunity) (11.1.0)\n",
            "Downloading mordredcommunity-2.0.6-py3-none-any.whl (175 kB)\n",
            "\u001b[2K   \u001b[90m━━━━━━━━━━━━━━━━━━━━━━━━━━━━━━━━━━━━━━━━\u001b[0m \u001b[32m176.0/176.0 kB\u001b[0m \u001b[31m2.9 MB/s\u001b[0m eta \u001b[36m0:00:00\u001b[0m\n",
            "\u001b[?25hDownloading rdkit-2024.9.6-cp311-cp311-manylinux_2_28_x86_64.whl (34.3 MB)\n",
            "\u001b[2K   \u001b[90m━━━━━━━━━━━━━━━━━━━━━━━━━━━━━━━━━━━━━━━━\u001b[0m \u001b[32m34.3/34.3 MB\u001b[0m \u001b[31m10.0 MB/s\u001b[0m eta \u001b[36m0:00:00\u001b[0m\n",
            "\u001b[?25hInstalling collected packages: rdkit, mordredcommunity\n",
            "Successfully installed mordredcommunity-2.0.6 rdkit-2024.9.6\n"
          ]
        }
      ]
    },
    {
      "cell_type": "code",
      "execution_count": 204,
      "metadata": {
        "colab": {
          "base_uri": "https://localhost:8080/"
        },
        "id": "okRowrmbwIN8",
        "outputId": "4c5543b2-f496-4392-cd5e-655011213232"
      },
      "outputs": [
        {
          "output_type": "stream",
          "name": "stdout",
          "text": [
            "Drive already mounted at /content/drive; to attempt to forcibly remount, call drive.mount(\"/content/drive\", force_remount=True).\n"
          ]
        }
      ],
      "source": [
        "import numpy as np\n",
        "import matplotlib.pyplot as plt\n",
        "from sklearn.decomposition import PCA\n",
        "from sklearn.impute import KNNImputer\n",
        "from sklearn.linear_model import Lasso\n",
        "from google.colab import drive\n",
        "import seaborn as sns\n",
        "import pandas as pd\n",
        "from sklearn import svm,preprocessing,metrics,linear_model\n",
        "from sklearn.preprocessing import StandardScaler\n",
        "from mordred import Calculator,descriptors\n",
        "from rdkit import Chem\n",
        "drive.mount('/content/drive')"
      ]
    },
    {
      "cell_type": "code",
      "source": [
        "!git clone https://github.com/theochem/B3DB"
      ],
      "metadata": {
        "colab": {
          "base_uri": "https://localhost:8080/"
        },
        "id": "CPu4JBSaj72Q",
        "outputId": "4c64e97e-607a-4168-e24c-aea6952a4821"
      },
      "execution_count": null,
      "outputs": [
        {
          "output_type": "stream",
          "name": "stdout",
          "text": [
            "Cloning into 'B3DB'...\n",
            "remote: Enumerating objects: 284, done.\u001b[K\n",
            "remote: Counting objects: 100% (19/19), done.\u001b[K\n",
            "remote: Compressing objects: 100% (18/18), done.\u001b[K\n",
            "remote: Total 284 (delta 8), reused 3 (delta 1), pack-reused 265 (from 1)\u001b[K\n",
            "Receiving objects: 100% (284/284), 162.98 MiB | 22.46 MiB/s, done.\n",
            "Resolving deltas: 100% (100/100), done.\n"
          ]
        }
      ]
    },
    {
      "cell_type": "code",
      "source": [
        "# cleaning null/extra columns\n",
        "\n",
        "data = pd.read_csv(\"/content/B3DB/B3DB/B3DB_classification_extended.tsv.gz\", sep=\"\\t\", compression=\"gzip\", low_memory=False)\n",
        "data.drop(columns=['comments','NO.',\n",
        " 'compound_name',\n",
        " 'IUPAC_name',\n",
        " 'CID',\n",
        " 'Inchi',\n",
        " 'reference',\n",
        " 'group','threshold'],inplace=True)\n",
        "res = data.columns[data.isnull().all(0)]\n",
        "data.drop(columns=res,inplace=True)"
      ],
      "metadata": {
        "id": "TYvSuAXdkBfd"
      },
      "execution_count": null,
      "outputs": []
    },
    {
      "cell_type": "code",
      "source": [
        "raw_data = data"
      ],
      "metadata": {
        "id": "gvu04MepMIU7"
      },
      "execution_count": null,
      "outputs": []
    },
    {
      "cell_type": "code",
      "source": [
        "features = raw_data.iloc[:,3:]\n",
        "target = raw_data.iloc[:,2]\n",
        "target[target==\"BBB+\"] = 1\n",
        "target[target==\"BBB-\"] = 0"
      ],
      "metadata": {
        "colab": {
          "base_uri": "https://localhost:8080/"
        },
        "id": "ki4-AEZNN2Yg",
        "outputId": "727fce45-989b-42ea-d9c8-54fec07822ee"
      },
      "execution_count": null,
      "outputs": [
        {
          "output_type": "stream",
          "name": "stderr",
          "text": [
            "<ipython-input-182-f7a3f24e9b18>:3: SettingWithCopyWarning: \n",
            "A value is trying to be set on a copy of a slice from a DataFrame\n",
            "\n",
            "See the caveats in the documentation: https://pandas.pydata.org/pandas-docs/stable/user_guide/indexing.html#returning-a-view-versus-a-copy\n",
            "  target[target==\"BBB+\"] = 1\n",
            "<ipython-input-182-f7a3f24e9b18>:4: SettingWithCopyWarning: \n",
            "A value is trying to be set on a copy of a slice from a DataFrame\n",
            "\n",
            "See the caveats in the documentation: https://pandas.pydata.org/pandas-docs/stable/user_guide/indexing.html#returning-a-view-versus-a-copy\n",
            "  target[target==\"BBB-\"] = 0\n"
          ]
        }
      ]
    },
    {
      "cell_type": "code",
      "source": [
        "# imputation of missing values\n",
        "\n",
        "imputer = KNNImputer(n_neighbors=2, weights=\"uniform\",missing_values=np.nan)\n",
        "imputed_features = imputer.fit_transform(features,y=target)"
      ],
      "metadata": {
        "id": "EOxbtRAGOAXC"
      },
      "execution_count": null,
      "outputs": []
    },
    {
      "cell_type": "code",
      "source": [
        "raw_data.iloc[:,2] = target\n",
        "raw_data.iloc[:,3:] = imputed_features\n"
      ],
      "metadata": {
        "id": "iWh3s9SbSReA"
      },
      "execution_count": null,
      "outputs": []
    },
    {
      "cell_type": "code",
      "source": [
        "pre_l1_data = raw_data"
      ],
      "metadata": {
        "id": "d41zE2oeZJ3E"
      },
      "execution_count": null,
      "outputs": []
    },
    {
      "cell_type": "code",
      "source": [
        "total_cols = pre_l1_data.columns\n",
        "numeric_cols = total_cols[3:]\n",
        "\n",
        "desc_data = pre_l1_data.iloc[:,:3]\n",
        "\n",
        "pre_l1_features = np.array(pre_l1_data.iloc[:,3:])\n",
        "pre_l1_targets = np.array(pre_l1_data.iloc[:,2]).reshape(-1,1)"
      ],
      "metadata": {
        "id": "ZdmRqZXeZrDs"
      },
      "execution_count": null,
      "outputs": []
    },
    {
      "cell_type": "code",
      "source": [
        "# l1 regularization\n",
        "\n",
        "lasso = Lasso(alpha=0.1)\n",
        "lasso.fit(pre_l1_features,pre_l1_targets)\n",
        "selected_features = np.where(lasso.coef_ != 0)[0]\n"
      ],
      "metadata": {
        "colab": {
          "base_uri": "https://localhost:8080/"
        },
        "id": "ADgOBVD3avPM",
        "outputId": "b442b0f7-1488-4e1f-bf07-120295372f5a"
      },
      "execution_count": null,
      "outputs": [
        {
          "output_type": "stream",
          "name": "stderr",
          "text": [
            "/usr/local/lib/python3.11/dist-packages/sklearn/linear_model/_coordinate_descent.py:695: ConvergenceWarning: Objective did not converge. You might want to increase the number of iterations, check the scale of the features or consider increasing regularisation. Duality gap: 5.094e+02, tolerance: 1.810e-01\n",
            "  model = cd_fast.enet_coordinate_descent(\n"
          ]
        }
      ]
    },
    {
      "cell_type": "code",
      "source": [
        "data_selected = pre_l1_features[:,selected_features]\n",
        "df_selected = pd.DataFrame(data_selected,columns=numeric_cols[selected_features])\n",
        "\n",
        "df = pd.concat([desc_data,df_selected],axis=1)"
      ],
      "metadata": {
        "id": "PAD0ggIObFwC"
      },
      "execution_count": null,
      "outputs": []
    },
    {
      "cell_type": "code",
      "source": [
        "# to skip preprocessing run\n",
        "# df.to_csv(\"/content/drive/MyDrive/v3postL1data.csv\",index=False)\n",
        "df = pd.read_csv(\"/content/drive/MyDrive/v3postL1data.csv\")\n",
        "\n",
        "l1_data = df\n",
        "l1_data = l1_data.sample(frac=1)\n",
        "x_cols = l1_data.columns[3:]"
      ],
      "metadata": {
        "id": "v1JMu3YNwZzn"
      },
      "execution_count": 5,
      "outputs": []
    },
    {
      "cell_type": "code",
      "source": [
        "l1_data = np.array(l1_data)\n",
        "\n",
        "r,c = l1_data.shape\n",
        "l1_train = l1_data[:5600]\n",
        "l1_test = l1_data[5600:]\n",
        "\n",
        "x_train = np.array(l1_train[:,3:],dtype=\"float32\")\n",
        "y_train = np.array(l1_train[:,2],dtype=\"float32\")\n",
        "\n",
        "scaler = StandardScaler()\n",
        "scaler.fit(x_train)\n",
        "\n",
        "x_test = np.array(l1_test[:,3:],dtype=\"float32\")\n",
        "y_test = np.array(l1_test[:,2],dtype=\"float32\")\n"
      ],
      "metadata": {
        "id": "ot3cUan0wi54"
      },
      "execution_count": 111,
      "outputs": []
    },
    {
      "cell_type": "code",
      "source": [
        "# model training\n",
        "\n",
        "clf = svm.SVC(kernel=\"rbf\",gamma=0.1, C=10)\n",
        "x_train = preprocessing.scale(x_train)\n",
        "x_test = preprocessing.scale(x_test)\n",
        "\n",
        "np.set_printoptions(formatter={'float': '{: 0.3f}'.format})\n",
        "\n",
        "clf.fit(x_train[:,:],y_train)\n",
        "\n",
        "y_pred = clf.predict(x_test[:700,:])\n",
        "print(abs(y_pred-y_test[:700]).sum())\n"
      ],
      "metadata": {
        "colab": {
          "base_uri": "https://localhost:8080/"
        },
        "id": "UQBcN2f8wnm3",
        "outputId": "d7fd9488-b94a-4f55-f6b3-35b9a1dbdd52"
      },
      "execution_count": 236,
      "outputs": [
        {
          "output_type": "stream",
          "name": "stderr",
          "text": [
            "/usr/local/lib/python3.11/dist-packages/sklearn/preprocessing/_data.py:258: UserWarning: Numerical issues were encountered when centering the data and might not be solved. Dataset may contain too large values. You may need to prescale your features.\n",
            "  warnings.warn(\n"
          ]
        },
        {
          "output_type": "stream",
          "name": "stdout",
          "text": [
            "74.0\n"
          ]
        }
      ]
    },
    {
      "cell_type": "code",
      "source": [
        "# predicting off only smiles\n",
        "\n",
        "calc = Calculator(descriptors,ignore_3D=True)\n",
        "mol = Chem.MolFromSmiles('C1=CC(=C(C=C1CCN)O)O')\n",
        "moldf = calc.pandas([mol])\n",
        "moldf = moldf[x_cols]\n",
        "moldf = moldf.apply(pd.to_numeric, errors=\"coerce\").fillna(0)\n",
        "pd.set_option('display.max_columns', 10000)\n",
        "\n",
        "moldf = scaler.transform(np.array(moldf))\n",
        "\n",
        "clf.predict(moldf)"
      ],
      "metadata": {
        "colab": {
          "base_uri": "https://localhost:8080/"
        },
        "id": "MeR_GG_ATlFE",
        "outputId": "5db8511b-6bd6-4e04-81c9-5ddb73941384"
      },
      "execution_count": 131,
      "outputs": [
        {
          "output_type": "stream",
          "name": "stderr",
          "text": [
            "100%|██████████| 1/1 [00:00<00:00,  2.66it/s]\n"
          ]
        },
        {
          "output_type": "execute_result",
          "data": {
            "text/plain": [
              "array([ 0.000], dtype=float32)"
            ]
          },
          "metadata": {},
          "execution_count": 131
        }
      ]
    },
    {
      "cell_type": "code",
      "source": [
        "# finding pc1 & pc2 using PCA\n",
        "\n",
        "points = 2000\n",
        "\n",
        "pca = PCA(n_components=2)\n",
        "embedded = pca.fit_transform(x_test)\n",
        "pca_c = abs(pca.components_)\n",
        "pc1_w = pca_c[0]\n",
        "pc2_w = pca_c[1]\n",
        "\n",
        "print(pd.DataFrame(pc2_w).describe())\n",
        "print(pd.DataFrame(np.partition(pc2_w, -4)[-4:]).describe())\n",
        "\n",
        "pca_df =pd.DataFrame({\"PCA_1\":embedded[:points,0],\"PCA_2\":embedded[:points,1],\"BBB+/BBB-\":y_test[:points]})\n",
        "\n",
        "# fig = plt.figure()\n",
        "# ax = fig.add_subplot(111, projection='3d')\n",
        "\n",
        "# ax.scatter(pca_df['PCA_1'],pca_df['PCA_2'],pca_df['PCA_3'],c=['green' if bbb == 1 else 'red' for bbb in pca_df['BBB+/BBB-']],cmap=pca_df['BBB+/BBB-'],s=60)\n",
        "sns.scatterplot(data=pca_df, x=\"PCA_1\", y=\"PCA_2\",\n",
        "                hue=\"BBB+/BBB-\",\n",
        "                palette=sns.color_palette([\"hotpink\", \"dodgerblue\"]),\n",
        "                linewidth=0.1,\n",
        "                )\n",
        "plt.xlabel(\"PC 1\", fontsize=14)\n",
        "plt.ylabel(\"PC 2\", fontsize=14)\n",
        "\n",
        "# plt.ylim(-5, 5)\n",
        "# plt.xlim(-5,5)\n",
        "plt.show()"
      ],
      "metadata": {
        "colab": {
          "base_uri": "https://localhost:8080/",
          "height": 776
        },
        "id": "n2H86x7wwL8A",
        "outputId": "7b284846-341f-4942-8fe1-7f349a32f42e"
      },
      "execution_count": 235,
      "outputs": [
        {
          "output_type": "stream",
          "name": "stdout",
          "text": [
            "                0\n",
            "count  131.000000\n",
            "mean     0.055541\n",
            "std      0.067704\n",
            "min      0.000258\n",
            "25%      0.016781\n",
            "50%      0.033804\n",
            "75%      0.058768\n",
            "max      0.281906\n",
            "              0\n",
            "count  4.000000\n",
            "mean   0.278310\n",
            "std    0.002949\n",
            "min    0.275300\n",
            "25%    0.276287\n",
            "50%    0.278017\n",
            "75%    0.280040\n",
            "max    0.281906\n"
          ]
        },
        {
          "output_type": "display_data",
          "data": {
            "text/plain": [
              "<Figure size 640x480 with 1 Axes>"
            ],
            "image/png": "[encoded data removed]"
          },
          "metadata": {}
        }
      ]
    },
    {
      "cell_type": "code",
      "source": [
        "# confusion matrix\n",
        "\n",
        "confusion_matrix = metrics.confusion_matrix(y_test,y_pred)\n",
        "cm_display = metrics.ConfusionMatrixDisplay(confusion_matrix=confusion_matrix, display_labels = [0, 1])\n",
        "cm_display.plot()\n",
        "plt.show()"
      ],
      "metadata": {
        "colab": {
          "base_uri": "https://localhost:8080/",
          "height": 449
        },
        "id": "Uj6-5QQ3t0fz",
        "outputId": "0e13f982-eddb-4ed1-8697-b256315551e7"
      },
      "execution_count": null,
      "outputs": [
        {
          "output_type": "display_data",
          "data": {
            "text/plain": [
              "<Figure size 640x480 with 2 Axes>"
            ],
            "image/png": "[encoded data removed]"
          },
          "metadata": {}
        }
      ]
    }
  ]
}