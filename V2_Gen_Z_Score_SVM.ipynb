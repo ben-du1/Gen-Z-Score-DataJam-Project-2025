{
  "nbformat": 4,
  "nbformat_minor": 0,
  "metadata": {
    "colab": {
      "provenance": [],
      "authorship_tag": "ABX9TyO8RcQfYV+nAc9pPvevK01Q",
      "include_colab_link": true
    },
    "kernelspec": {
      "name": "python3",
      "display_name": "Python 3"
    },
    "language_info": {
      "name": "python"
    }
  },
  "cells": [
    {
      "cell_type": "markdown",
      "metadata": {
        "id": "view-in-github",
        "colab_type": "text"
      },
      "source": [
        "<a href=\"https://colab.research.google.com/github/ben-du1/Gen-Z-Score-DataJam-Project-2025/blob/main/V2_Gen_Z_Score_SVM.ipynb\" target=\"_parent\"><img src=\"https://colab.research.google.com/assets/colab-badge.svg\" alt=\"Open In Colab\"/></a>"
      ]
    },
    {
      "cell_type": "code",
      "execution_count": 220,
      "metadata": {
        "colab": {
          "base_uri": "https://localhost:8080/"
        },
        "id": "okRowrmbwIN8",
        "outputId": "59670616-d28d-43e4-c736-073d5e8a50ba"
      },
      "outputs": [
        {
          "output_type": "stream",
          "name": "stdout",
          "text": [
            "Drive already mounted at /content/drive; to attempt to forcibly remount, call drive.mount(\"/content/drive\", force_remount=True).\n"
          ]
        }
      ],
      "source": [
        "import numpy as np\n",
        "import matplotlib.pyplot as plt\n",
        "from sklearn.decomposition import PCA\n",
        "from sklearn.impute import KNNImputer\n",
        "from sklearn.linear_model import Lasso\n",
        "from google.colab import drive\n",
        "import pandas as pd\n",
        "from sklearn import svm,preprocessing,metrics\n",
        "drive.mount('/content/drive')"
      ]
    },
    {
      "cell_type": "code",
      "source": [
        "!git clone https://github.com/theochem/B3DB"
      ],
      "metadata": {
        "colab": {
          "base_uri": "https://localhost:8080/"
        },
        "id": "CPu4JBSaj72Q",
        "outputId": "4c64e97e-607a-4168-e24c-aea6952a4821"
      },
      "execution_count": 167,
      "outputs": [
        {
          "output_type": "stream",
          "name": "stdout",
          "text": [
            "Cloning into 'B3DB'...\n",
            "remote: Enumerating objects: 284, done.\u001b[K\n",
            "remote: Counting objects: 100% (19/19), done.\u001b[K\n",
            "remote: Compressing objects: 100% (18/18), done.\u001b[K\n",
            "remote: Total 284 (delta 8), reused 3 (delta 1), pack-reused 265 (from 1)\u001b[K\n",
            "Receiving objects: 100% (284/284), 162.98 MiB | 22.46 MiB/s, done.\n",
            "Resolving deltas: 100% (100/100), done.\n"
          ]
        }
      ]
    },
    {
      "cell_type": "code",
      "source": [
        "# cleaning null/extra columns\n",
        "\n",
        "data = pd.read_csv(\"/content/B3DB/B3DB/B3DB_classification_extended.tsv.gz\", sep=\"\\t\", compression=\"gzip\", low_memory=False)\n",
        "data.drop(columns=['comments','NO.',\n",
        " 'compound_name',\n",
        " 'IUPAC_name',\n",
        " 'CID',\n",
        " 'Inchi',\n",
        " 'reference',\n",
        " 'group','threshold'],inplace=True)\n",
        "res = data.columns[data.isnull().all(0)]\n",
        "data.drop(columns=res,inplace=True)"
      ],
      "metadata": {
        "id": "TYvSuAXdkBfd"
      },
      "execution_count": 178,
      "outputs": []
    },
    {
      "cell_type": "code",
      "source": [
        "raw_data = data"
      ],
      "metadata": {
        "id": "gvu04MepMIU7"
      },
      "execution_count": 179,
      "outputs": []
    },
    {
      "cell_type": "code",
      "source": [
        "features = raw_data.iloc[:,3:]\n",
        "target = raw_data.iloc[:,2]\n",
        "target[target==\"BBB+\"] = 1\n",
        "target[target==\"BBB-\"] = 0"
      ],
      "metadata": {
        "colab": {
          "base_uri": "https://localhost:8080/"
        },
        "id": "ki4-AEZNN2Yg",
        "outputId": "727fce45-989b-42ea-d9c8-54fec07822ee"
      },
      "execution_count": 182,
      "outputs": [
        {
          "output_type": "stream",
          "name": "stderr",
          "text": [
            "<ipython-input-182-f7a3f24e9b18>:3: SettingWithCopyWarning: \n",
            "A value is trying to be set on a copy of a slice from a DataFrame\n",
            "\n",
            "See the caveats in the documentation: https://pandas.pydata.org/pandas-docs/stable/user_guide/indexing.html#returning-a-view-versus-a-copy\n",
            "  target[target==\"BBB+\"] = 1\n",
            "<ipython-input-182-f7a3f24e9b18>:4: SettingWithCopyWarning: \n",
            "A value is trying to be set on a copy of a slice from a DataFrame\n",
            "\n",
            "See the caveats in the documentation: https://pandas.pydata.org/pandas-docs/stable/user_guide/indexing.html#returning-a-view-versus-a-copy\n",
            "  target[target==\"BBB-\"] = 0\n"
          ]
        }
      ]
    },
    {
      "cell_type": "code",
      "source": [
        "# imputation of missing values\n",
        "\n",
        "imputer = KNNImputer(n_neighbors=2, weights=\"uniform\",missing_values=np.nan)\n",
        "imputed_features = imputer.fit_transform(features,y=target)"
      ],
      "metadata": {
        "id": "EOxbtRAGOAXC"
      },
      "execution_count": 184,
      "outputs": []
    },
    {
      "cell_type": "code",
      "source": [
        "raw_data.iloc[:,2] = target\n",
        "raw_data.iloc[:,3:] = imputed_features\n"
      ],
      "metadata": {
        "id": "iWh3s9SbSReA"
      },
      "execution_count": 185,
      "outputs": []
    },
    {
      "cell_type": "code",
      "source": [
        "pre_l1_data = raw_data"
      ],
      "metadata": {
        "id": "d41zE2oeZJ3E"
      },
      "execution_count": 186,
      "outputs": []
    },
    {
      "cell_type": "code",
      "source": [
        "total_cols = pre_l1_data.columns\n",
        "numeric_cols = total_cols[3:]\n",
        "\n",
        "desc_data = pre_l1_data.iloc[:,:3]\n",
        "\n",
        "pre_l1_features = np.array(pre_l1_data.iloc[:,3:])\n",
        "pre_l1_targets = np.array(pre_l1_data.iloc[:,2]).reshape(-1,1)"
      ],
      "metadata": {
        "id": "ZdmRqZXeZrDs"
      },
      "execution_count": 194,
      "outputs": []
    },
    {
      "cell_type": "code",
      "source": [
        "# l1 regularization\n",
        "\n",
        "lasso = Lasso(alpha=0.1)\n",
        "lasso.fit(pre_l1_features,pre_l1_targets)\n",
        "selected_features = np.where(lasso.coef_ != 0)[0]\n"
      ],
      "metadata": {
        "colab": {
          "base_uri": "https://localhost:8080/"
        },
        "id": "ADgOBVD3avPM",
        "outputId": "b442b0f7-1488-4e1f-bf07-120295372f5a"
      },
      "execution_count": 195,
      "outputs": [
        {
          "output_type": "stream",
          "name": "stderr",
          "text": [
            "/usr/local/lib/python3.11/dist-packages/sklearn/linear_model/_coordinate_descent.py:695: ConvergenceWarning: Objective did not converge. You might want to increase the number of iterations, check the scale of the features or consider increasing regularisation. Duality gap: 5.094e+02, tolerance: 1.810e-01\n",
            "  model = cd_fast.enet_coordinate_descent(\n"
          ]
        }
      ]
    },
    {
      "cell_type": "code",
      "source": [
        "data_selected = pre_l1_features[:,selected_features]\n",
        "df_selected = pd.DataFrame(data_selected,columns=numeric_cols[selected_features])\n",
        "\n",
        "df = pd.concat([desc_data,df_selected],axis=1)"
      ],
      "metadata": {
        "id": "PAD0ggIObFwC"
      },
      "execution_count": 196,
      "outputs": []
    },
    {
      "cell_type": "code",
      "source": [
        "# to skip preprocessing run\n",
        "# df.to_csv(\"/content/drive/MyDrive/v3postL1data.csv\",index=False)\n",
        "# df = pd.read_csv(\"/content/drive/MyDrive/v3postL1data.csv\")\n",
        "\n",
        "l1_data = df\n",
        "l1_data = l1_data.sample(frac=1)"
      ],
      "metadata": {
        "id": "v1JMu3YNwZzn"
      },
      "execution_count": 197,
      "outputs": []
    },
    {
      "cell_type": "code",
      "source": [
        "l1_data = np.array(l1_data)\n",
        "\n",
        "r,c = l1_data.shape\n",
        "l1_train = l1_data[:5600]\n",
        "l1_test = l1_data[5600:]\n",
        "\n",
        "x_train = np.array(l1_train[:,3:],dtype=\"float32\")\n",
        "y_train = np.array(l1_train[:,2],dtype=\"float32\")\n",
        "\n",
        "x_test = np.array(l1_test[:,3:],dtype=\"float32\")\n",
        "y_test = np.array(l1_test[:,2],dtype=\"float32\")\n"
      ],
      "metadata": {
        "id": "ot3cUan0wi54"
      },
      "execution_count": 205,
      "outputs": []
    },
    {
      "cell_type": "code",
      "source": [
        "# model training\n",
        "\n",
        "clf = svm.SVC(kernel=\"rbf\",gamma=0.1, C=10)\n",
        "x_train = preprocessing.scale(x_train)\n",
        "x_test = preprocessing.scale(x_test)\n",
        "\n",
        "np.set_printoptions(formatter={'float': '{: 0.3f}'.format})\n",
        "\n",
        "clf.fit(x_train[:,:],y_train)\n",
        "\n",
        "y_pred = clf.predict(x_test[:,:])\n",
        "print(abs(y_pred-y_test).sum())\n"
      ],
      "metadata": {
        "colab": {
          "base_uri": "https://localhost:8080/"
        },
        "id": "UQBcN2f8wnm3",
        "outputId": "76f42ade-ff86-4e3a-c5a9-99e58661dbde"
      },
      "execution_count": 206,
      "outputs": [
        {
          "output_type": "stream",
          "name": "stderr",
          "text": [
            "/usr/local/lib/python3.11/dist-packages/sklearn/preprocessing/_data.py:258: UserWarning: Numerical issues were encountered when centering the data and might not be solved. Dataset may contain too large values. You may need to prescale your features.\n",
            "  warnings.warn(\n",
            "/usr/local/lib/python3.11/dist-packages/sklearn/preprocessing/_data.py:277: UserWarning: Numerical issues were encountered when scaling the data and might not be solved. The standard deviation of the data is probably very close to 0. \n",
            "  warnings.warn(\n",
            "/usr/local/lib/python3.11/dist-packages/sklearn/preprocessing/_data.py:258: UserWarning: Numerical issues were encountered when centering the data and might not be solved. Dataset may contain too large values. You may need to prescale your features.\n",
            "  warnings.warn(\n",
            "/usr/local/lib/python3.11/dist-packages/sklearn/preprocessing/_data.py:277: UserWarning: Numerical issues were encountered when scaling the data and might not be solved. The standard deviation of the data is probably very close to 0. \n",
            "  warnings.warn(\n"
          ]
        },
        {
          "output_type": "stream",
          "name": "stdout",
          "text": [
            "276.0\n"
          ]
        }
      ]
    },
    {
      "cell_type": "code",
      "source": [
        "# confusion matrix\n",
        "\n",
        "confusion_matrix = metrics.confusion_matrix(y_test,y_pred)\n",
        "cm_display = metrics.ConfusionMatrixDisplay(confusion_matrix=confusion_matrix, display_labels = [0, 1])\n",
        "cm_display.plot()\n",
        "plt.show()"
      ],
      "metadata": {
        "colab": {
          "base_uri": "https://localhost:8080/",
          "height": 449
        },
        "id": "Uj6-5QQ3t0fz",
        "outputId": "0e13f982-eddb-4ed1-8697-b256315551e7"
      },
      "execution_count": 221,
      "outputs": [
        {
          "output_type": "display_data",
          "data": {
            "text/plain": [
              "<Figure size 640x480 with 2 Axes>"
            ],
            "image/png": "[encoded data removed]"
          },
          "metadata": {}
        }
      ]
    }
  ]
}